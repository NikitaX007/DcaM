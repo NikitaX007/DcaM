{
 "cells": [
  {
   "cell_type": "code",
   "execution_count": null,
   "metadata": {},
   "outputs": [],
   "source": [
    "# pip install lxml - установка необходимой библиотеки"
   ]
  },
  {
   "cell_type": "code",
   "execution_count": 28,
   "metadata": {},
   "outputs": [
    {
     "name": "stdout",
     "output_type": "stream",
     "text": [
      "Данные успешно сохранены в файл 'covid_data.csv'.\n"
     ]
    }
   ],
   "source": [
    "import requests\n",
    "from lxml import html\n",
    "import csv\n",
    "\n",
    "# URL страницы с данными о коронавирусе\n",
    "url = 'https://www.worldometers.info/coronavirus/'\n",
    "\n",
    "# Задаем строку агента пользователя для имитации веб-браузера\n",
    "headers = {\n",
    "    'User-Agent': 'Mozilla/5.0 (Windows NT 10.0; Win64; x64) AppleWebKit/537.36 (KHTML, like Gecko) Chrome/58.0.3029.110 Safari/537.3'\n",
    "}\n",
    "\n",
    "def format_number(number_str):\n",
    "    # Удаляем лишние символы, такие как пробелы и знаки плюса\n",
    "    number_str = number_str.strip().replace('+', '').replace(' ', '')\n",
    "    # Проверяем, является ли строка числом\n",
    "    if number_str.isdigit():\n",
    "        # Форматируем число с разделителями тысяч\n",
    "        return \"{:,}\".format(int(number_str))\n",
    "    return number_str\n",
    "\n",
    "try:\n",
    "    # Отправляем HTTP GET-запрос и получаем HTML-содержимое страницы\n",
    "    response = requests.get(url, headers=headers)\n",
    "    response.raise_for_status()  # Проверяем на наличие ошибок HTTP\n",
    "    \n",
    "    # Парсим HTML-содержимое страницы с помощью lxml\n",
    "    tree = html.fromstring(response.content)\n",
    "    \n",
    "    # XPath выражения для выбора строк таблицы с данными по странам\n",
    "    rows = tree.xpath('//table[@id=\"main_table_countries_today\"]/tbody[1]/tr')\n",
    "    \n",
    "    # Извлекаем данные из таблицы\n",
    "    extracted_data = []\n",
    "    for row in rows:\n",
    "        # Извлекаем текст каждой ячейки в строке, обрабатываем данные\n",
    "        cell_data = []\n",
    "        for cell in row.xpath('.//td'):\n",
    "            text = cell.text_content().strip()\n",
    "            formatted_text = format_number(text)\n",
    "            cell_data.append(formatted_text)\n",
    "        # Выбираем только нужные столбцы - 15 \n",
    "        cell_data = cell_data[:15]  \n",
    "        extracted_data.append(cell_data)\n",
    "    \n",
    "    # Сохраняем извлеченные данные в CSV-файл\n",
    "    with open('covid_data.csv', 'w', newline='', encoding='utf-8') as csvfile:\n",
    "        writer = csv.writer(csvfile)\n",
    "        # Записываем заголовки столбцов\n",
    "        writer.writerow(['#','Country Other', 'Total Cases', 'New Cases', 'Total Deaths', 'New Deaths', 'Total Recovered', 'New Recovered', 'Active Cases', 'Serious/Critical', 'Total Cases/1M pop', 'Deaths/1M pop', 'Total Tests', 'Tests/1M pop', 'Population'])\n",
    "        writer.writerows(extracted_data)\n",
    "    \n",
    "    print(\"Данные успешно сохранены в файл 'covid_data.csv'.\")\n",
    "\n",
    "except requests.HTTPError as e:\n",
    "    # Обработка ошибок HTTP\n",
    "    print(f\"Ошибка HTTP: {e}\")\n",
    "except requests.RequestException as e:\n",
    "    # Обработка других ошибок запроса\n",
    "    print(f\"Ошибка запроса: {e}\")\n",
    "except Exception as e:\n",
    "    # Обработка всех остальных ошибок\n",
    "    print(f\"Произошла ошибка: {e}\")"
   ]
  }
 ],
 "metadata": {
  "kernelspec": {
   "display_name": "Python 3",
   "language": "python",
   "name": "python3"
  },
  "language_info": {
   "codemirror_mode": {
    "name": "ipython",
    "version": 3
   },
   "file_extension": ".py",
   "mimetype": "text/x-python",
   "name": "python",
   "nbconvert_exporter": "python",
   "pygments_lexer": "ipython3",
   "version": "3.11.6"
  }
 },
 "nbformat": 4,
 "nbformat_minor": 2
}
